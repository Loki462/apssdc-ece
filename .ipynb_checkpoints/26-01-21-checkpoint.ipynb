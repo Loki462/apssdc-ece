{
 "cells": [
  {
   "cell_type": "code",
   "execution_count": 4,
   "metadata": {},
   "outputs": [
    {
     "name": "stdout",
     "output_type": "stream",
     "text": [
      "Enter number:6\n",
      "perfect number\n"
     ]
    }
   ],
   "source": [
    "## while loop\n",
    "# To print perfect number:\n",
    "n = int(input(\"Enter number:\"))\n",
    "s = 0\n",
    "for i in range(1,n):\n",
    "    if n%i == 0:\n",
    "        s+=i\n",
    "if s == n:\n",
    "    print('perfect number')\n",
    "else:\n",
    "    print('Not a Perfect number')"
   ]
  },
  {
   "cell_type": "code",
   "execution_count": 9,
   "metadata": {},
   "outputs": [
    {
     "name": "stdout",
     "output_type": "stream",
     "text": [
      "Enter tables upto6\n",
      "Enter table length4\n",
      "1 * 1 = 1\n",
      "1 * 2 = 2\n",
      "1 * 3 = 3\n",
      "1 * 4 = 4\n",
      "2 * 1 = 2\n",
      "2 * 2 = 4\n",
      "2 * 3 = 6\n",
      "2 * 4 = 8\n",
      "3 * 1 = 3\n",
      "3 * 2 = 6\n",
      "3 * 3 = 9\n",
      "3 * 4 = 12\n",
      "4 * 1 = 4\n",
      "4 * 2 = 8\n",
      "4 * 3 = 12\n",
      "4 * 4 = 16\n",
      "5 * 1 = 5\n",
      "5 * 2 = 10\n",
      "5 * 3 = 15\n",
      "5 * 4 = 20\n",
      "6 * 1 = 6\n",
      "6 * 2 = 12\n",
      "6 * 3 = 18\n",
      "6 * 4 = 24\n"
     ]
    }
   ],
   "source": [
    "# To print tables:\n",
    "\n",
    "t = int(input('Enter tables upto'))\n",
    "t_len = int(input(\"Enter table length\"))\n",
    "for i in range(1,t+1):\n",
    "    for j in range(1,t_len+1):\n",
    "        print('{} * {} = {}'.format(i,j,i*j))\n",
    "  "
   ]
  },
  {
   "cell_type": "code",
   "execution_count": 11,
   "metadata": {},
   "outputs": [
    {
     "name": "stdout",
     "output_type": "stream",
     "text": [
      "10 8 6 4 2 "
     ]
    }
   ],
   "source": [
    "for i in range(10,0,-2):\n",
    "    print(i,end = ' ')"
   ]
  },
  {
   "cell_type": "code",
   "execution_count": 12,
   "metadata": {},
   "outputs": [
    {
     "name": "stdout",
     "output_type": "stream",
     "text": [
      "10 9 8 7 6 5 4 3 2 1 "
     ]
    }
   ],
   "source": [
    "i = 10\n",
    "while i>0:\n",
    "    print(i,end = ' ')\n",
    "    i-=1\n"
   ]
  },
  {
   "cell_type": "markdown",
   "metadata": {},
   "source": [
    "# Jumping Statements::\n",
    "Break,  Continue"
   ]
  },
  {
   "cell_type": "code",
   "execution_count": 14,
   "metadata": {},
   "outputs": [
    {
     "name": "stdout",
     "output_type": "stream",
     "text": [
      "1 2 3 4 5 "
     ]
    }
   ],
   "source": [
    "for i in range(1,10):\n",
    "    print(i,end = ' ')\n",
    "    if i == 5:\n",
    "        break"
   ]
  },
  {
   "cell_type": "code",
   "execution_count": 20,
   "metadata": {},
   "outputs": [
    {
     "name": "stdout",
     "output_type": "stream",
     "text": [
      "1 2 3 4 6 7 8 9 "
     ]
    }
   ],
   "source": [
    "for i in range(1,10):\n",
    "    \n",
    "    if i == 5:\n",
    "        continue\n",
    "    print(i,end = ' ')"
   ]
  },
  {
   "cell_type": "markdown",
   "metadata": {},
   "source": [
    "## Functions:\n",
    "- block of code to perform some operations\n",
    "- Andavntages::\n",
    "        -code reusability\n",
    "        -readubilitty of program\n",
    "        -code reduce\n",
    "        -time decrease\n",
    "- Types of functions:\n",
    "        -1. inbuilt/deafult functions:\n",
    "            -Ex.print,sum,max,min,int,\n",
    "        -2. user defined functions:\n",
    "            1.function creatioin:\n",
    "                1. function declaration:\n",
    "                    def-to declare user defined functions:\n",
    "                    #syntax: 'def FunctionName(arg):'\n",
    "                2. function definition:\n",
    "                    'statements'\n",
    "             2.function calling:\n",
    "                 'by using function name'\n",
    "        -3. special functions :\n",
    "                .lambda,comprehensions,iterations,map"
   ]
  },
  {
   "cell_type": "code",
   "execution_count": 27,
   "metadata": {},
   "outputs": [
    {
     "data": {
      "text/plain": [
       "6"
      ]
     },
     "execution_count": 27,
     "metadata": {},
     "output_type": "execute_result"
    }
   ],
   "source": [
    "sum([1,2,3])\n"
   ]
  },
  {
   "cell_type": "code",
   "execution_count": 25,
   "metadata": {},
   "outputs": [
    {
     "data": {
      "text/plain": [
       "1"
      ]
     },
     "execution_count": 25,
     "metadata": {},
     "output_type": "execute_result"
    }
   ],
   "source": [
    "min([1,2,3])\n"
   ]
  },
  {
   "cell_type": "code",
   "execution_count": 28,
   "metadata": {},
   "outputs": [
    {
     "data": {
      "text/plain": [
       "3"
      ]
     },
     "execution_count": 28,
     "metadata": {},
     "output_type": "execute_result"
    }
   ],
   "source": [
    "max([1,2,3])"
   ]
  },
  {
   "cell_type": "code",
   "execution_count": 2,
   "metadata": {},
   "outputs": [
    {
     "name": "stdout",
     "output_type": "stream",
     "text": [
      "9\n"
     ]
    }
   ],
   "source": [
    "## function creation:\n",
    "def add(a,b):\n",
    "    print(a+b)\n",
    "add(4,5)"
   ]
  },
  {
   "cell_type": "code",
   "execution_count": 3,
   "metadata": {},
   "outputs": [
    {
     "name": "stdout",
     "output_type": "stream",
     "text": [
      "-1\n"
     ]
    }
   ],
   "source": [
    "## function creation:\n",
    "def sub(a,b):\n",
    "    print(a-b)\n",
    "sub(4,5)"
   ]
  },
  {
   "cell_type": "code",
   "execution_count": 4,
   "metadata": {},
   "outputs": [
    {
     "name": "stdout",
     "output_type": "stream",
     "text": [
      "Enter the number:5\n",
      "Enter the number:2\n",
      "7\n"
     ]
    }
   ],
   "source": [
    "## function creation:\n",
    "a = int(input('Enter the number:'))\n",
    "b = int(input('Enter the number:'))\n",
    "def add(a,b):\n",
    "    print(a+b)\n",
    "add(a,b)"
   ]
  },
  {
   "cell_type": "code",
   "execution_count": 5,
   "metadata": {},
   "outputs": [],
   "source": [
    "# types of user define functions:\n",
    "# based on return value\n",
    "#1. without arg and without return value\n",
    "#2. without arg and with return value\n",
    "#3. with arg and without return value\n",
    "#4. with arg and with return value"
   ]
  },
  {
   "cell_type": "code",
   "execution_count": 13,
   "metadata": {},
   "outputs": [
    {
     "name": "stdout",
     "output_type": "stream",
     "text": [
      "Enter run value:5\n",
      "number is a factor of 10\n",
      "Enter run value:2\n",
      "number is a factor of 10\n",
      "None\n"
     ]
    }
   ],
   "source": [
    "#1. without arg and without return value\n",
    "def f1():\n",
    "    n = int(input('Enter run value:'))\n",
    "    if 10%n == 0:\n",
    "        print('number is a factor of 10')\n",
    "    else:\n",
    "        print('number is not a factor of 10')\n",
    "f1()\n",
    "n = f1()\n",
    "print(n)"
   ]
  },
  {
   "cell_type": "code",
   "execution_count": 31,
   "metadata": {},
   "outputs": [
    {
     "name": "stdout",
     "output_type": "stream",
     "text": [
      "Enter n1 value:5\n",
      "Enter n2 value2\n",
      "addition is : 7\n",
      "subtraction is : 3\n",
      "multiplication is : 10\n",
      "division is : 2.5\n"
     ]
    }
   ],
   "source": [
    "#2. without arg and with return value\n",
    "def f2():\n",
    "        n1 = int(input('Enter n1 value:'))\n",
    "        n2 = int(input('Enter n2 value'))\n",
    "        return  n1+n2,n1-n2,n1*n2,n1/n2\n",
    "add,sub,mul,div = f2()\n",
    "print('addition is :',a+b)\n",
    "print('subtraction is :',a-b)\n",
    "print('multiplication is :',a*b)\n",
    "print('division is :',a/b)"
   ]
  },
  {
   "cell_type": "code",
   "execution_count": 33,
   "metadata": {},
   "outputs": [
    {
     "name": "stdout",
     "output_type": "stream",
     "text": [
      "Enter n1 value:2\n",
      "Enter n2 value3\n",
      "addition is : 7\n",
      "subtraction is : 3\n",
      "multiplication is : 10\n",
      "division is : 2.5\n"
     ]
    }
   ],
   "source": [
    "#3. with arg and without return value\n",
    "n1 = int(input('Enter n1 value:'))\n",
    "n2 = int(input('Enter n2 value'))\n",
    "def f2(n1,n2):\n",
    "    print('addition is :',a+b)\n",
    "    print('subtraction is :',a-b)\n",
    "    print('multiplication is :',a*b)\n",
    "    print('division is :',a/b)\n",
    "f2(n1,n2)"
   ]
  }
 ],
 "metadata": {
  "kernelspec": {
   "display_name": "Python 3",
   "language": "python",
   "name": "python3"
  },
  "language_info": {
   "codemirror_mode": {
    "name": "ipython",
    "version": 3
   },
   "file_extension": ".py",
   "mimetype": "text/x-python",
   "name": "python",
   "nbconvert_exporter": "python",
   "pygments_lexer": "ipython3",
   "version": "3.7.3"
  }
 },
 "nbformat": 4,
 "nbformat_minor": 2
}
