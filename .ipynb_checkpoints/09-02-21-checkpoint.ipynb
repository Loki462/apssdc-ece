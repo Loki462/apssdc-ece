{
 "cells": [
  {
   "cell_type": "markdown",
   "metadata": {},
   "source": [
    "### Regular expresssion\n",
    "- RE is a sequence of characters that forms a pattern(Search Pattern)\n",
    "- Validation \n",
    "- import the package (import re)"
   ]
  },
  {
   "cell_type": "code",
   "execution_count": 5,
   "metadata": {},
   "outputs": [],
   "source": [
    "import re"
   ]
  },
  {
   "cell_type": "code",
   "execution_count": 12,
   "metadata": {},
   "outputs": [
    {
     "data": {
      "text/plain": [
       "['A',\n",
       " 'ASCII',\n",
       " 'DEBUG',\n",
       " 'DOTALL',\n",
       " 'I',\n",
       " 'IGNORECASE',\n",
       " 'L',\n",
       " 'LOCALE',\n",
       " 'M',\n",
       " 'MULTILINE',\n",
       " 'Match',\n",
       " 'Pattern',\n",
       " 'RegexFlag',\n",
       " 'S',\n",
       " 'Scanner',\n",
       " 'T',\n",
       " 'TEMPLATE',\n",
       " 'U',\n",
       " 'UNICODE',\n",
       " 'VERBOSE',\n",
       " 'X',\n",
       " '_MAXCACHE',\n",
       " '__all__',\n",
       " '__builtins__',\n",
       " '__cached__',\n",
       " '__doc__',\n",
       " '__file__',\n",
       " '__loader__',\n",
       " '__name__',\n",
       " '__package__',\n",
       " '__spec__',\n",
       " '__version__',\n",
       " '_cache',\n",
       " '_compile',\n",
       " '_compile_repl',\n",
       " '_expand',\n",
       " '_locale',\n",
       " '_pickle',\n",
       " '_special_chars_map',\n",
       " '_subx',\n",
       " 'compile',\n",
       " 'copyreg',\n",
       " 'enum',\n",
       " 'error',\n",
       " 'escape',\n",
       " 'findall',\n",
       " 'finditer',\n",
       " 'fullmatch',\n",
       " 'functools',\n",
       " 'match',\n",
       " 'purge',\n",
       " 'search',\n",
       " 'split',\n",
       " 'sre_compile',\n",
       " 'sre_parse',\n",
       " 'sub',\n",
       " 'subn',\n",
       " 'template']"
      ]
     },
     "execution_count": 12,
     "metadata": {},
     "output_type": "execute_result"
    }
   ],
   "source": [
    "dir(re)"
   ]
  },
  {
   "cell_type": "code",
   "execution_count": 16,
   "metadata": {},
   "outputs": [
    {
     "name": "stdout",
     "output_type": "stream",
     "text": [
      "<re.Match object; span=(0, 1), match='A'>\n"
     ]
    }
   ],
   "source": [
    "# match : Syntax: re.match(pattern,string)\n",
    "import re\n",
    "a = re.match('A','APSSDC')  #it matches only starting element..\n",
    "print(a)"
   ]
  },
  {
   "cell_type": "code",
   "execution_count": 18,
   "metadata": {},
   "outputs": [
    {
     "name": "stdout",
     "output_type": "stream",
     "text": [
      "<re.Match object; span=(0, 1), match='A'>\n"
     ]
    }
   ],
   "source": [
    "b = re.search('A','APSSDC')  #it matches any element in the given string..\n",
    "print(b)"
   ]
  },
  {
   "cell_type": "code",
   "execution_count": 21,
   "metadata": {},
   "outputs": [
    {
     "name": "stdout",
     "output_type": "stream",
     "text": [
      "<re.Match object; span=(0, 5), match='RVRJC'>\n"
     ]
    }
   ],
   "source": [
    "c = re.match('RVRJC','RVRJC')  #It must follow the full name.\n",
    "print(c)"
   ]
  },
  {
   "cell_type": "code",
   "execution_count": 23,
   "metadata": {},
   "outputs": [
    {
     "name": "stdout",
     "output_type": "stream",
     "text": [
      "None\n"
     ]
    }
   ],
   "source": [
    "c = re.search('RVRC','RVRJC') \n",
    "print(c)"
   ]
  },
  {
   "cell_type": "code",
   "execution_count": 29,
   "metadata": {},
   "outputs": [
    {
     "name": "stdout",
     "output_type": "stream",
     "text": [
      "['K', 'K']\n"
     ]
    }
   ],
   "source": [
    "a = re.findall('K','LOKESH KUMAR')  #It find all ...\n",
    "print(a)"
   ]
  },
  {
   "cell_type": "markdown",
   "metadata": {},
   "source": [
    "#### Regular Expression Quick Guide\n",
    "- ^           Matches the begining of a line.\n",
    "- $           Matches the end of the line.\n",
    "- .           Matches any character.\n",
    "- \\s          Matches whitespaces.\n",
    "- \\S          Matches any non-whitespace character.\n",
    "- *(star)           Repeats a character zero or more times.\n",
    "- *?          Repeats a character zero or more times(non-greedy).\n",
    "- +(add)           Repeats a character one or more times.\n",
    "- +?          Repeats a character one or more times(non-greedy).\n",
    "- [aeiou]     Matches a single character in the listed set.\n",
    "- [^XYZ]      Matches a single character not in the listed set.\n",
    "- [a-z 0-9]   The set of characters can include a range.\n",
    "- (           Indicates where string extraction is to start.\n",
    "- )           Indicates where string extraction is to end."
   ]
  },
  {
   "cell_type": "code",
   "execution_count": 38,
   "metadata": {},
   "outputs": [
    {
     "data": {
      "text/plain": [
       "<re.Match object; span=(0, 13), match='RVR JC Guntur'>"
      ]
     },
     "execution_count": 38,
     "metadata": {},
     "output_type": "execute_result"
    }
   ],
   "source": [
    "a = 'RVR JC Guntur'\n",
    "res = re.search('^R.*r$',a)\n",
    "res"
   ]
  },
  {
   "cell_type": "code",
   "execution_count": 56,
   "metadata": {},
   "outputs": [
    {
     "name": "stdout",
     "output_type": "stream",
     "text": [
      "['Python', 'Python']\n"
     ]
    }
   ],
   "source": [
    "####Task 1;; without using dots.\n",
    "\n",
    "# findall(pattern,string)\n",
    "\n",
    "a = 'Python Workshop Python Langauge RVRJC Workshop'\n",
    "res = re.findall('P....n',a)\n",
    "print(res)"
   ]
  },
  {
   "cell_type": "code",
   "execution_count": 52,
   "metadata": {},
   "outputs": [
    {
     "name": "stdout",
     "output_type": "stream",
     "text": [
      "<re.Match object; span=(0, 6), match='Python'>\n"
     ]
    }
   ],
   "source": [
    "a = 'Python Workshop Python Langauge RVRJC Workshop'\n",
    "pattern = 'P....n'\n",
    "res = re.search(pattern,a)\n",
    "print(res)"
   ]
  },
  {
   "cell_type": "code",
   "execution_count": 63,
   "metadata": {},
   "outputs": [
    {
     "data": {
      "text/plain": [
       "<re.Match object; span=(7, 8), match='E'>"
      ]
     },
     "execution_count": 63,
     "metadata": {},
     "output_type": "execute_result"
    }
   ],
   "source": [
    "a = 'RVRJCECE'\n",
    "res = re.search('E$',a)\n",
    "res"
   ]
  },
  {
   "cell_type": "code",
   "execution_count": 67,
   "metadata": {},
   "outputs": [
    {
     "name": "stdout",
     "output_type": "stream",
     "text": [
      "[' ', ' ', ' ', ' ', ' ', ' ']\n"
     ]
    }
   ],
   "source": [
    "# \\s - Print only Whitespaces\n",
    "a = ' RVR JC ECE PYTHON WORKSHOP '\n",
    "res = re.findall('\\s',a)\n",
    "print(res)"
   ]
  },
  {
   "cell_type": "code",
   "execution_count": 68,
   "metadata": {},
   "outputs": [
    {
     "name": "stdout",
     "output_type": "stream",
     "text": [
      "['R', 'V', 'R', 'J', 'C', 'E', 'C', 'E', 'P', 'Y', 'T', 'H', 'O', 'N', 'W', 'O', 'R', 'K', 'S', 'H', 'O', 'P']\n"
     ]
    }
   ],
   "source": [
    "# \\S - Removes all Whitespaces\n",
    "a = ' RVR JC ECE PYTHON WORKSHOP '\n",
    "res = re.findall('\\S',a)\n",
    "print(res)"
   ]
  },
  {
   "cell_type": "code",
   "execution_count": 70,
   "metadata": {},
   "outputs": [
    {
     "data": {
      "text/plain": [
       "<re.Match object; span=(0, 6), match='999999'>"
      ]
     },
     "execution_count": 70,
     "metadata": {},
     "output_type": "execute_result"
    }
   ],
   "source": [
    "# * - repeat a characteer 0 or more\n",
    "a = '9999998999'\n",
    "res = re.search('9*',a)\n",
    "res"
   ]
  },
  {
   "cell_type": "code",
   "execution_count": 85,
   "metadata": {},
   "outputs": [
    {
     "name": "stdout",
     "output_type": "stream",
     "text": [
      "VENKATESH\n"
     ]
    }
   ],
   "source": [
    "## Task 2;;\n",
    "li = ['RAMU','RAJ','AVINASH','VENKATESH','GOPI','SRINIVAS']\n",
    "pattern = '^V.*H$'\n",
    "for i in li:\n",
    "    if re.search(pattern,i):\n",
    "        print(i)"
   ]
  },
  {
   "cell_type": "code",
   "execution_count": 91,
   "metadata": {},
   "outputs": [
    {
     "name": "stdout",
     "output_type": "stream",
     "text": [
      "*\n",
      "**\n",
      "***\n"
     ]
    }
   ],
   "source": [
    "## Task 3;;\n",
    "print('*')\n",
    "print('**')\n",
    "print('***')"
   ]
  },
  {
   "cell_type": "code",
   "execution_count": 106,
   "metadata": {},
   "outputs": [
    {
     "name": "stdout",
     "output_type": "stream",
     "text": [
      "* * * "
     ]
    }
   ],
   "source": [
    "for i in range(0,3):\n",
    "    for j in range(0,1):\n",
    "        print('*',end = ' ')\n",
    "    "
   ]
  },
  {
   "cell_type": "markdown",
   "metadata": {},
   "source": [
    "##### d->digits..\n",
    "- $  ->End if the line"
   ]
  },
  {
   "cell_type": "code",
   "execution_count": 114,
   "metadata": {},
   "outputs": [
    {
     "name": "stdout",
     "output_type": "stream",
     "text": [
      "9879456213\n",
      "8546912370\n",
      "7569841202\n",
      "6541230879\n"
     ]
    }
   ],
   "source": [
    "# Mobile Number Pattern\n",
    "li = ['9879456213','8546912370','7569841202','5698741023','6541230879','9999999999999999999999','444444444444444444444']\n",
    "pattern = ''\n",
    "for i in li:\n",
    "    if re.findall('^[6-9]\\d{9}$',i): #or [6789] or [6,7,8,9]\n",
    "        print(i)"
   ]
  },
  {
   "cell_type": "code",
   "execution_count": null,
   "metadata": {},
   "outputs": [],
   "source": [
    "# Task 4--Email pattern(valid Gmail Ids)\n",
    "\n",
    "li = ['apssdc.123@gmail.com','apssdcrvr@apssdc.in','prasannaraj.m@apssdc.in','rvrjc123.123@gmail.com','raj#$%%^^@gmail.com','PRASANNA123@gmail.co.in']\n"
   ]
  }
 ],
 "metadata": {
  "kernelspec": {
   "display_name": "Python 3",
   "language": "python",
   "name": "python3"
  },
  "language_info": {
   "codemirror_mode": {
    "name": "ipython",
    "version": 3
   },
   "file_extension": ".py",
   "mimetype": "text/x-python",
   "name": "python",
   "nbconvert_exporter": "python",
   "pygments_lexer": "ipython3",
   "version": "3.7.3"
  }
 },
 "nbformat": 4,
 "nbformat_minor": 2
}
