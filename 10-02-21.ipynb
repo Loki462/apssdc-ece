{
 "cells": [
  {
   "cell_type": "markdown",
   "metadata": {},
   "source": [
    "#### File Handling Techniques using Python\n",
    "- What is a File?\n",
    "    - Collection of records\n",
    "    - Store the data\n",
    "#### File Operations\n",
    "- Open a file.\n",
    "    - open('filename','Mode')   \n",
    "- Read()  -> Read the data into a file.\n",
    "- Write() -> To write data in a file\n",
    "- Append()-> To add the data into a file.\n",
    "- Close() -> Close the file.\n",
    "\n",
    "#### MODES::\n",
    "- Read Mode - r\n",
    "- Write Mode - w\n",
    "- Append Mode - a"
   ]
  },
  {
   "cell_type": "code",
   "execution_count": 1,
   "metadata": {},
   "outputs": [
    {
     "ename": "FileNotFoundError",
     "evalue": "[Errno 2] No such file or directory: 'File.txt'",
     "output_type": "error",
     "traceback": [
      "\u001b[1;31m---------------------------------------------------------------------------\u001b[0m",
      "\u001b[1;31mFileNotFoundError\u001b[0m                         Traceback (most recent call last)",
      "\u001b[1;32m<ipython-input-1-cf3838903f0c>\u001b[0m in \u001b[0;36m<module>\u001b[1;34m\u001b[0m\n\u001b[0;32m      1\u001b[0m \u001b[1;31m# Open a file:\u001b[0m\u001b[1;33m\u001b[0m\u001b[1;33m\u001b[0m\u001b[1;33m\u001b[0m\u001b[0m\n\u001b[1;32m----> 2\u001b[1;33m \u001b[0mf\u001b[0m \u001b[1;33m=\u001b[0m \u001b[0mopen\u001b[0m\u001b[1;33m(\u001b[0m\u001b[1;34m'File.txt'\u001b[0m\u001b[1;33m,\u001b[0m\u001b[1;34m'r'\u001b[0m\u001b[1;33m)\u001b[0m\u001b[1;33m\u001b[0m\u001b[1;33m\u001b[0m\u001b[0m\n\u001b[0m\u001b[0;32m      3\u001b[0m \u001b[0mprint\u001b[0m \u001b[1;33m(\u001b[0m\u001b[0mf\u001b[0m\u001b[1;33m)\u001b[0m\u001b[1;33m\u001b[0m\u001b[1;33m\u001b[0m\u001b[0m\n",
      "\u001b[1;31mFileNotFoundError\u001b[0m: [Errno 2] No such file or directory: 'File.txt'"
     ]
    }
   ],
   "source": [
    "# Open a file:\n",
    "f = open('File.txt','r')\n",
    "print (f)"
   ]
  },
  {
   "cell_type": "code",
   "execution_count": 2,
   "metadata": {},
   "outputs": [
    {
     "ename": "SyntaxError",
     "evalue": "(unicode error) 'unicodeescape' codec can't decode bytes in position 2-3: truncated \\UXXXXXXXX escape (<ipython-input-2-5e71225b1b22>, line 2)",
     "output_type": "error",
     "traceback": [
      "\u001b[1;36m  File \u001b[1;32m\"<ipython-input-2-5e71225b1b22>\"\u001b[1;36m, line \u001b[1;32m2\u001b[0m\n\u001b[1;33m    f = open('C:\\Users\\APSSDC-RVRJC\\Desktop\\Y19EC094\\File22.txt','r')\u001b[0m\n\u001b[1;37m            ^\u001b[0m\n\u001b[1;31mSyntaxError\u001b[0m\u001b[1;31m:\u001b[0m (unicode error) 'unicodeescape' codec can't decode bytes in position 2-3: truncated \\UXXXXXXXX escape\n"
     ]
    }
   ],
   "source": [
    "# To acess a txt file in other location.\n",
    "f = open('C:\\Users\\APSSDC-RVRJC\\Desktop\\Y19EC094\\File22.txt','r')\n",
    "print (f)"
   ]
  },
  {
   "cell_type": "code",
   "execution_count": 3,
   "metadata": {},
   "outputs": [
    {
     "name": "stdout",
     "output_type": "stream",
     "text": [
      "<_io.TextIOWrapper name='C:\\\\Users\\\\APSSDC-RVRJC\\\\Desktop\\\\Y19EC094\\\\File22.txt' mode='r' encoding='cp1252'>\n"
     ]
    }
   ],
   "source": [
    "# To acess a txt file in other location.\n",
    "f = open('C:\\\\Users\\\\APSSDC-RVRJC\\\\Desktop\\\\Y19EC094\\\\File22.txt','r')\n",
    "print (f)"
   ]
  },
  {
   "cell_type": "code",
   "execution_count": 4,
   "metadata": {},
   "outputs": [
    {
     "name": "stdout",
     "output_type": "stream",
     "text": [
      "<_io.TextIOWrapper name='C:/Users/APSSDC-RVRJC/Desktop/Y19EC094/File22.txt' mode='r' encoding='cp1252'>\n"
     ]
    }
   ],
   "source": [
    "# To acess a txt file in other location.\n",
    "f = open('C:/Users/APSSDC-RVRJC/Desktop/Y19EC094/File22.txt','r')\n",
    "print (f)"
   ]
  },
  {
   "cell_type": "code",
   "execution_count": 16,
   "metadata": {},
   "outputs": [
    {
     "name": "stdout",
     "output_type": "stream",
     "text": [
      "I am Lokesh Kumar,,having two precious persons in my life,other than my family. I care them a lot...But I don't know how to express...Feeling sad for that..\n",
      "\n",
      "\n",
      "\n",
      "\n",
      "regex101.com\n",
      "\n"
     ]
    }
   ],
   "source": [
    "# To Read the data.\n",
    "f = open('C:/Users/APSSDC-RVRJC/Desktop/Y19EC094/File22.txt','r')\n",
    "f1 = f.read()\n",
    "print (f1)"
   ]
  },
  {
   "cell_type": "code",
   "execution_count": 59,
   "metadata": {},
   "outputs": [
    {
     "name": "stdout",
     "output_type": "stream",
     "text": [
      "LOKESH KUMAR KONDETI Y19EC094\n"
     ]
    }
   ],
   "source": [
    "# To access a different file..\n",
    "f = open('Demo_File.py')\n",
    "f1 = f.read()\n",
    "print(f1)"
   ]
  },
  {
   "cell_type": "code",
   "execution_count": 60,
   "metadata": {},
   "outputs": [
    {
     "name": "stdout",
     "output_type": "stream",
     "text": [
      "29\n"
     ]
    }
   ],
   "source": [
    "# To Write the file.\n",
    "f = open('Demo_File.py','w')    #if we open the file then must close the file..\n",
    "data = \"LOKESH KUMAR KONDETI Y19EC094\"\n",
    "f1 = f.write(data)\n",
    "print(f1)\n",
    "f.close()"
   ]
  },
  {
   "cell_type": "code",
   "execution_count": 61,
   "metadata": {},
   "outputs": [
    {
     "name": "stdout",
     "output_type": "stream",
     "text": [
      "LOKESH KUMAR KONDETI Y19EC094\n"
     ]
    }
   ],
   "source": [
    "# To read the file...\n",
    "f = open('Demo_File.py') \n",
    "f1 = f.read()\n",
    "print(f1)"
   ]
  },
  {
   "cell_type": "code",
   "execution_count": 62,
   "metadata": {},
   "outputs": [
    {
     "name": "stdout",
     "output_type": "stream",
     "text": [
      "28\n"
     ]
    },
    {
     "data": {
      "text/plain": [
       "<function TextIOWrapper.close()>"
      ]
     },
     "execution_count": 62,
     "metadata": {},
     "output_type": "execute_result"
    }
   ],
   "source": [
    "# To apppend a file.\n",
    "f = open('Demo_File.py','a')\n",
    "data = 'RVR JC COLLEGE OF ENGINEEING'\n",
    "f1 = f.write(data)\n",
    "print(f1)\n",
    "f.close"
   ]
  },
  {
   "cell_type": "code",
   "execution_count": 63,
   "metadata": {},
   "outputs": [
    {
     "name": "stdout",
     "output_type": "stream",
     "text": [
      "LOKESH KUMAR KONDETI Y19EC094\n"
     ]
    }
   ],
   "source": [
    "f = open('Demo_File.py') \n",
    "f1 = f.read()\n",
    "print(f1)"
   ]
  },
  {
   "cell_type": "code",
   "execution_count": 41,
   "metadata": {},
   "outputs": [
    {
     "name": "stdout",
     "output_type": "stream",
     "text": [
      "<_io.TextIOWrapper name='Filename.java' mode='r' encoding='cp1252'>\n"
     ]
    }
   ],
   "source": [
    "# To access a different file..\n",
    "f = open('Filename.java')\n",
    "print(f)"
   ]
  },
  {
   "cell_type": "code",
   "execution_count": 42,
   "metadata": {},
   "outputs": [
    {
     "name": "stdout",
     "output_type": "stream",
     "text": [
      "NAME : KONDETI LOKESH KUMAR\n",
      "REGD NO :Y19EC094\n",
      "PHONE NO : 9502221771\n",
      "BRANCH : ECE\n",
      "EMAIL ID :lokeshkumarkondeti@gmail.com\n",
      "AGE :18\n"
     ]
    }
   ],
   "source": [
    "f1 = f.read()\n",
    "print(f1)"
   ]
  },
  {
   "cell_type": "code",
   "execution_count": 53,
   "metadata": {},
   "outputs": [
    {
     "name": "stdout",
     "output_type": "stream",
     "text": [
      "38\n"
     ]
    },
    {
     "data": {
      "text/plain": [
       "<function TextIOWrapper.close()>"
      ]
     },
     "execution_count": 53,
     "metadata": {},
     "output_type": "execute_result"
    }
   ],
   "source": [
    "f = open('Filename.java','a')\n",
    "data = 'COLLEGE : RVR JC COLLEGE OF ENGINEEING'\n",
    "f1 = f.write(data)\n",
    "print(f1)\n",
    "f.close"
   ]
  },
  {
   "cell_type": "code",
   "execution_count": 57,
   "metadata": {},
   "outputs": [
    {
     "name": "stdout",
     "output_type": "stream",
     "text": [
      "NAME : KONDETI LOKESH KUMAR\n",
      "REGD NO :Y19EC094\n",
      "PHONE NO : 9502221771\n",
      "BRANCH : ECE\n",
      "EMAIL ID :lokeshkumarkondeti@gmail.com\n",
      "AGE :18APSSDCAPSSDC\n"
     ]
    }
   ],
   "source": [
    "f = open('Filename.java')\n",
    "f1 = f.read()\n",
    "print(f1)\n",
    "f.close()"
   ]
  },
  {
   "cell_type": "code",
   "execution_count": 58,
   "metadata": {},
   "outputs": [
    {
     "name": "stdout",
     "output_type": "stream",
     "text": [
      "Append data is success\n"
     ]
    }
   ],
   "source": [
    "# with out a close file\n",
    "with open('Filename.java','a') as loki:\n",
    "    data = 'APSSDC'\n",
    "    loki.write(data)\n",
    "    print('Append data is success')"
   ]
  },
  {
   "cell_type": "code",
   "execution_count": 64,
   "metadata": {},
   "outputs": [
    {
     "name": "stdout",
     "output_type": "stream",
     "text": [
      "RVR JC COLLEGE OF ENGINEERING \n",
      "ELECTRONICS AND COMMUNICATION ENGINNERING\n",
      "REGD NO : Y19EC094\n",
      "\n"
     ]
    }
   ],
   "source": [
    "f = open('loki.pdf')\n",
    "f1 = f.read()\n",
    "print(f1)\n",
    "f.close()"
   ]
  },
  {
   "cell_type": "code",
   "execution_count": 66,
   "metadata": {},
   "outputs": [
    {
     "name": "stdout",
     "output_type": "stream",
     "text": [
      "Append data is success\n"
     ]
    }
   ],
   "source": [
    "with open('loki.pdf','a') as loki:\n",
    "    data = 'APSSDC'\n",
    "    loki.write(data)\n",
    "    print('Append data is success')"
   ]
  },
  {
   "cell_type": "code",
   "execution_count": 2,
   "metadata": {},
   "outputs": [
    {
     "name": "stdout",
     "output_type": "stream",
     "text": [
      "Requirement already satisfied: py in c:\\users\\apssdc-rvrjc\\appdata\\local\\continuum\\anaconda3\\lib\\site-packages (1.8.0)\n",
      "Note: you may need to restart the kernel to use updated packages.\n"
     ]
    }
   ],
   "source": [
    "pip install py"
   ]
  },
  {
   "cell_type": "markdown",
   "metadata": {},
   "source": [
    "######## Pandas package is to acess the data in pdf file......"
   ]
  },
  {
   "cell_type": "code",
   "execution_count": null,
   "metadata": {},
   "outputs": [],
   "source": []
  }
 ],
 "metadata": {
  "kernelspec": {
   "display_name": "Python 3",
   "language": "python",
   "name": "python3"
  },
  "language_info": {
   "codemirror_mode": {
    "name": "ipython",
    "version": 3
   },
   "file_extension": ".py",
   "mimetype": "text/x-python",
   "name": "python",
   "nbconvert_exporter": "python",
   "pygments_lexer": "ipython3",
   "version": "3.7.3"
  }
 },
 "nbformat": 4,
 "nbformat_minor": 2
}
